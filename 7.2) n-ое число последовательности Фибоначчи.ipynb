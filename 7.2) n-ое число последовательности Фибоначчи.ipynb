{
 "cells": [
  {
   "cell_type": "markdown",
   "metadata": {},
   "source": [
    "# 7.2) n-ое число последовательности Фибоначчи O(log_n) \n",
    "## с помощью программы возведения в степень 7.1 "
   ]
  },
  {
   "cell_type": "code",
   "execution_count": null,
   "metadata": {},
   "outputs": [],
   "source": [
    "function fibonacci(n::Integer)\n",
    "    a = a_in_power_of_n([1 1; 1 0], n)\n",
    "    return a[2]\n",
    "end\n",
    "\n",
    "function a_in_power_of_n(a, n)\n",
    "\n",
    "    k, t, p = n, 1, a # k = n; t = 1; p = a\n",
    "\n",
    "    #ИНВАРИАНТ: p^k * t = a^n \n",
    "\n",
    "    while k > 0\n",
    "        if even(k) # k - четное\n",
    "            k ÷= 2\n",
    "            p *= p # т.к. p^k = (p * p)^k * (t / 2)\n",
    "        else\n",
    "            k -= 1\n",
    "            t *= p # т.к. p^k * t = p^(k-1) * (p * t)\n",
    "        end   \n",
    "    end\n",
    "    #УТВ: t = a^n\n",
    "    return(t)\n",
    "\n",
    "end\n",
    "\n",
    "even(b) = if b % 2 == 0 return true\n",
    "            else return false end\n",
    "\n",
    "fibonacci(77)"
   ]
  }
 ],
 "metadata": {
  "kernelspec": {
   "display_name": "Julia 1.5.1",
   "language": "julia",
   "name": "julia-1.5"
  },
  "language_info": {
   "file_extension": ".jl",
   "mimetype": "application/julia",
   "name": "julia",
   "version": "1.5.1"
  }
 },
 "nbformat": 4,
 "nbformat_minor": 4
}
