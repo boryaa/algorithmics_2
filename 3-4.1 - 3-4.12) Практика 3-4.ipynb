{
 "cells": [
  {
   "cell_type": "markdown",
   "metadata": {},
   "source": [
    "# 1) Вектор индексов всех элементов массива A, имеющих максимальное значение "
   ]
  },
  {
   "cell_type": "code",
   "execution_count": 2,
   "metadata": {},
   "outputs": [
    {
     "data": {
      "text/plain": [
       "find_all_max (generic function with 1 method)"
      ]
     },
     "execution_count": 2,
     "metadata": {},
     "output_type": "execute_result"
    }
   ],
   "source": [
    " function find_all_max(a)\n",
    "    i_max=[firstindex(a)]\n",
    "    for i in firstindex(a)+1:lastindex(a)\n",
    "        if A[i]>A[i_max[end]]\n",
    "            i_max=[i]\n",
    "        elseif A[i]==A[i_max[end]]\n",
    "            push!(i_max, i)\n",
    "        end\n",
    "    end\n",
    "    return i_max\n",
    "end"
   ]
  },
  {
   "cell_type": "markdown",
   "metadata": {},
   "source": [
    "# 2, 3) Разновидности пузырьковой сортировки"
   ]
  },
  {
   "cell_type": "code",
   "execution_count": 3,
   "metadata": {},
   "outputs": [
    {
     "data": {
      "text/plain": [
       "shakersort! (generic function with 1 method)"
      ]
     },
     "execution_count": 3,
     "metadata": {},
     "output_type": "execute_result"
    }
   ],
   "source": [
    "function bubblesort!(A)\n",
    "    n = length(A)\n",
    "    starting_index=0\n",
    "    for i in 1:n-1\n",
    "        for j in 1:n-i\n",
    "            if A[j]>A[j+1]\n",
    "                A[j], A[j+1] = A[j+1], A[j]\n",
    "                starting_index=j+1\n",
    "            end\n",
    "        end\n",
    "        j=starting_index\n",
    "    end\n",
    "    return A\n",
    "end\n",
    "\n",
    "  \n",
    "function shakersort!(A)\n",
    "    left=firstindex(A)\n",
    "    right=lastindex(A)\n",
    "    while (left <= right)\n",
    "        for i in right:left\n",
    "            if A[i-1]>A[i]\n",
    "                A[i-1],A[i]=A[i],A[i-1]\n",
    "            end\n",
    "        end\n",
    "        right -= 1\n",
    "        for j in left:right\n",
    "            if A[j]>A[j+1]\n",
    "                A[j],A[j+1]=A[j+1],A[j]\n",
    "            end\n",
    "        end\n",
    "        left += 1\n",
    "    end\n",
    "    return A\n",
    "end"
   ]
  },
  {
   "cell_type": "markdown",
   "metadata": {},
   "source": [
    "# 4) Реализовать сортировку Шелла"
   ]
  },
  {
   "cell_type": "code",
   "execution_count": 4,
   "metadata": {},
   "outputs": [
    {
     "data": {
      "text/plain": [
       "shellsort! (generic function with 1 method)"
      ]
     },
     "execution_count": 4,
     "metadata": {},
     "output_type": "execute_result"
    }
   ],
   "source": [
    "function shellsort!(a; distseries::Base.Generator=(length(a)÷2^i for i in 1:Int(floor(log2(length(a))))))\n",
    "    for d in distseries\n",
    "        for i in firstindex(a):lastindex(a)-d\n",
    "            j=i\n",
    "            while j>=firstindex(a) && a[j]>a[j+d]\n",
    "                a[j],a[j+d] = a[j+d],a[j]\n",
    "                j-=d\n",
    "            end\n",
    "        end\n",
    "    end\n",
    "    return a\n",
    "end"
   ]
  },
  {
   "cell_type": "markdown",
   "metadata": {},
   "source": [
    "# 5) Написать функцию, возвращающую соответствующий срез неокоторого одномерного массива A"
   ]
  },
  {
   "cell_type": "code",
   "execution_count": 5,
   "metadata": {},
   "outputs": [
    {
     "data": {
      "text/plain": [
       "slice (generic function with 1 method)"
      ]
     },
     "execution_count": 5,
     "metadata": {},
     "output_type": "execute_result"
    }
   ],
   "source": [
    "function slice(A::Vector{T},p::Vector{Int}) ::Vector{T} where T\n",
    "    return A[p]\n",
    "end"
   ]
  },
  {
   "cell_type": "markdown",
   "metadata": {},
   "source": [
    "# 6) Написать свою реализацию встроенной функции permute!(A, perm), реализующую соответствующее премещение элементов массива A на месте"
   ]
  },
  {
   "cell_type": "code",
   "execution_count": 6,
   "metadata": {},
   "outputs": [
    {
     "data": {
      "text/plain": [
       "permute_! (generic function with 1 method)"
      ]
     },
     "execution_count": 6,
     "metadata": {},
     "output_type": "execute_result"
    }
   ],
   "source": [
    "function permute_!(A::Vector{T}, perm::Vector{Int})::Vector{T} where T\n",
    "    return A[perm]\n",
    "end"
   ]
  },
  {
   "cell_type": "markdown",
   "metadata": {},
   "source": [
    "# 7) Реализовать встроенные функции вставки/добавления (deleteat!, insert!) элемента массива"
   ]
  },
  {
   "cell_type": "code",
   "execution_count": 8,
   "metadata": {},
   "outputs": [
    {
     "data": {
      "text/plain": [
       "insert! (generic function with 1 method)"
      ]
     },
     "execution_count": 8,
     "metadata": {},
     "output_type": "execute_result"
    }
   ],
   "source": [
    "function deleteat!(A::Vector{T}, index::Int)::Vector{T} where T\n",
    "    B = Vector{eltype(A)}(undef,(length(A)-1))\n",
    "    for i in 1:index\n",
    "        B[i]=A[i]\n",
    "    end\n",
    "    for i in index:length(A) - 1\n",
    "        B[i]=A[i+1]\n",
    "    end\n",
    "    A=B\n",
    "end\n",
    "\n",
    "function insert!(A::Vector{T}, value::T, index::Int)::Vector{T} where T\n",
    "        B = Vector{eltype(A)}(undef,(length(A)+1))\n",
    "    for i in 1:index\n",
    "        B[i]=A[i]\n",
    "    end\n",
    "    B[index] = value\n",
    "    for i in index:length(A)\n",
    "        B[i+1]=A[i]\n",
    "    end\n",
    "    A=B\n",
    "end"
   ]
  },
  {
   "cell_type": "markdown",
   "metadata": {},
   "source": [
    "# 8) Реализовать встроенные функции unique (возвращает новый массив, в который каждый элемент исходного массива входит только по одному разу), unique! (удаляет из исходного массива повторяющиеся элементы, оставляя каждый элемент в единственном экземпляре), allunique (проверяет, состоит ли данный массив только из уникальных элементов)"
   ]
  },
  {
   "cell_type": "code",
   "execution_count": 11,
   "metadata": {},
   "outputs": [
    {
     "data": {
      "text/plain": [
       "allunique (generic function with 1 method)"
      ]
     },
     "execution_count": 11,
     "metadata": {},
     "output_type": "execute_result"
    }
   ],
   "source": [
    "function unique(A::Vector{T})::Vector{T} where T\n",
    "    sort!(A)\n",
    "    result = []\n",
    "    for i in firstindex(A):lastindex(A)\n",
    "        if A[i] < A[i+1]\n",
    "            push(result, A[i])\n",
    "        end\n",
    "    end\n",
    "    return result\n",
    "end\n",
    "\n",
    "function unique!(A::Vector{T})::Vector{T} where T\n",
    "    sort!(A)\n",
    "    for i in firstindex(A):lastindex(A)\n",
    "        if A[i] == A[i+1]\n",
    "            deleteat!(A, i+1)\n",
    "            i -= 1\n",
    "        end\n",
    "    end\n",
    "    return A\n",
    "end\n",
    "\n",
    "function allunique(A::Vector{T})::Vector{T} where T\n",
    "    for i in 1:length(A)\n",
    "        for j in i+1:length(A)\n",
    "            if A[i]==A[j]\n",
    "                return false\n",
    "            end\n",
    "        end\n",
    "    end\n",
    "    return true\n",
    "end"
   ]
  },
  {
   "cell_type": "markdown",
   "metadata": {},
   "source": [
    "# 9) Реализовать встроенную функцию reverse!, переставляющую элементы в обратном порядке в самом массиве"
   ]
  },
  {
   "cell_type": "code",
   "execution_count": 13,
   "metadata": {},
   "outputs": [
    {
     "data": {
      "text/plain": [
       "reverse! (generic function with 1 method)"
      ]
     },
     "execution_count": 13,
     "metadata": {},
     "output_type": "execute_result"
    }
   ],
   "source": [
    "function reverse!(A::Vector{T})::Vector{T} where T\n",
    "    return A[end:-1:begin]\n",
    "end"
   ]
  },
  {
   "cell_type": "markdown",
   "metadata": {},
   "source": [
    "# 10) Написать функцию, осуществляющую циклический сдвиг массива на m позиций \"на месте\", т.е. без использования дополнительного массива"
   ]
  },
  {
   "cell_type": "code",
   "execution_count": 14,
   "metadata": {},
   "outputs": [
    {
     "data": {
      "text/plain": [
       "cyclshift (generic function with 1 method)"
      ]
     },
     "execution_count": 14,
     "metadata": {},
     "output_type": "execute_result"
    }
   ],
   "source": [
    "function cyclshift(a::AbstractVector, k::Int) \n",
    "    reverse!(a)\n",
    "    reverse!(@view a[begin:begin+k])\n",
    "    reverse!(@view a[begin+k+1:end])\n",
    "end"
   ]
  },
  {
   "cell_type": "markdown",
   "metadata": {},
   "source": [
    "# 11) Реализовать функцию, аналогичную встроенной функции transpose, с использованием вспомогательного массива"
   ]
  },
  {
   "cell_type": "code",
   "execution_count": 15,
   "metadata": {},
   "outputs": [
    {
     "data": {
      "text/plain": [
       "transpose (generic function with 1 method)"
      ]
     },
     "execution_count": 15,
     "metadata": {},
     "output_type": "execute_result"
    }
   ],
   "source": [
    "function transpose(A::Matrix)\n",
    "    B = Matrix{eltype(A)}(undef, size(A, 2), size(A, 1))\n",
    "    for i in 1:size(A, 1)\n",
    "        for j in 1:size(A, 2)\n",
    "            B[j, i] = A[i, j]\n",
    "        end\n",
    "    end\n",
    "    return B\n",
    "end"
   ]
  },
  {
   "cell_type": "markdown",
   "metadata": {},
   "source": [
    "# 12) Реализовать функцию, аналогичную встроенной функции transpose, осуществляющую транспонирование матрицы \"на месте\" (без использования вспомогательного массива)"
   ]
  },
  {
   "cell_type": "code",
   "execution_count": 16,
   "metadata": {},
   "outputs": [
    {
     "data": {
      "text/plain": [
       "transpose! (generic function with 1 method)"
      ]
     },
     "execution_count": 16,
     "metadata": {},
     "output_type": "execute_result"
    }
   ],
   "source": [
    "function transpose!(A::Matrix{T}) where T\n",
    "    for i in 1:size(A,1)\n",
    "        for j in 1:i\n",
    "            A[i, j], A[j, i] = A[j, i], A[i, j]\n",
    "        end\n",
    "    end\n",
    "    return A\n",
    "end"
   ]
  }
 ],
 "metadata": {
  "kernelspec": {
   "display_name": "Julia 1.5.1",
   "language": "julia",
   "name": "julia-1.5"
  },
  "language_info": {
   "file_extension": ".jl",
   "mimetype": "application/julia",
   "name": "julia",
   "version": "1.5.1"
  }
 },
 "nbformat": 4,
 "nbformat_minor": 4
}
