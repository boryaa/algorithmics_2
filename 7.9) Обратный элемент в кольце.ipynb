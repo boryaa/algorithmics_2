{
 "cells": [
  {
   "cell_type": "markdown",
   "metadata": {},
   "source": [
    "# 7.9) Обратный элемент в кольце #\n",
    "## с помощью расширенного алгоритма Евклида 7.8"
   ]
  },
  {
   "cell_type": "code",
   "execution_count": 2,
   "metadata": {},
   "outputs": [
    {
     "name": "stdout",
     "output_type": "stream",
     "text": [
      "5\n",
      "nothing\n"
     ]
    }
   ],
   "source": [
    "function gcdex(a, b)\n",
    "    if b == 0\n",
    "        return a, 1, 0\n",
    "    end\n",
    "    gcd, x0, y0 = gcdex(b, a % b)\n",
    "    x = y0\n",
    "    y = x0 - (a ÷ b) * y0\n",
    "    return gcd, x, y\n",
    "end\n",
    "\n",
    "function inv(a, n)\n",
    "    gcd, x, y = gcdex(a, n)\n",
    "    if gcd > 1\n",
    "        return nothing\n",
    "    elseif x < 0\n",
    "        x += n\n",
    "    end\n",
    "    return x\n",
    "end\n",
    "\n",
    "println(inv(3, 7))\n",
    "println(inv(2, 6))\n",
    "        "
   ]
  }
 ],
 "metadata": {
  "kernelspec": {
   "display_name": "Julia 1.5.1",
   "language": "julia",
   "name": "julia-1.5"
  },
  "language_info": {
   "file_extension": ".jl",
   "mimetype": "application/julia",
   "name": "julia",
   "version": "1.5.1"
  }
 },
 "nbformat": 4,
 "nbformat_minor": 4
}
