{
 "cells": [
  {
   "cell_type": "markdown",
   "metadata": {},
   "source": [
    "# 11.1) Случайные точки плоскости"
   ]
  },
  {
   "cell_type": "code",
   "execution_count": 2,
   "metadata": {},
   "outputs": [
    {
     "data": {
      "text/plain": [
       "Main.Vector2Ds"
      ]
     },
     "execution_count": 2,
     "metadata": {},
     "output_type": "execute_result"
    }
   ],
   "source": [
    "module Vector2Ds\n",
    "\n",
    "        export Vector2D, xdot, sin, cos\n",
    "        using LinearAlgebra # - чтобы стали доступными фунции dot (скалярное произведение), norm (длина вектора)\n",
    "\n",
    "        Vector2D{T<:Real} = Tuple{T,T}\n",
    "\n",
    "        Base. cos(a::Vector2D, b::Vector2D) = dot(a,b)/norm(a)/norm(b)\n",
    "        xdot(a::Vector2D, b::Vector2D) = a[1]*b[2]-a[2]*b[1]\n",
    "                # xdot(a,b)=|a||b|sin(a,b) - косое произведение\n",
    "        Base. sin(a::Vector2D, b::Vector2D) = xdot(a,b)/norm(a)/norm(b)\n",
    "end"
   ]
  },
  {
   "cell_type": "code",
   "execution_count": 3,
   "metadata": {},
   "outputs": [
    {
     "data": {
      "text/plain": [
       "randpoints"
      ]
     },
     "execution_count": 3,
     "metadata": {},
     "output_type": "execute_result"
    }
   ],
   "source": [
    "using .Vector2Ds\n",
    "\n",
    "\"\"\"\n",
    "        randpoints(random::Function, num::Integer)\n",
    "\n",
    "- random - функция, возвращающая случайное значение с требуемым распределением\n",
    "- возвращает одномерный массив длины num случайных точек плоскости \n",
    "\"\"\"\n",
    "randpoints(random::Function, num::Integer) = [(random(),random()) for _ in 1:num]\n",
    "\n"
   ]
  },
  {
   "cell_type": "code",
   "execution_count": 4,
   "metadata": {},
   "outputs": [
    {
     "data": {
      "text/plain": [
       "6-element Array{Tuple{Float64,Float64},1}:\n",
       " (0.32566823244750354, 0.054075483842676686)\n",
       " (0.5411400134417521, 0.9866487435495794)\n",
       " (0.9050496685108056, 0.29969589467621205)\n",
       " (0.2243904806064776, 0.9258882881853594)\n",
       " (0.10809291234048835, 0.8145198298046623)\n",
       " (0.5939918498459675, 0.7202593395093879)"
      ]
     },
     "execution_count": 4,
     "metadata": {},
     "output_type": "execute_result"
    }
   ],
   "source": [
    "randpoints(rand, 6)"
   ]
  }
 ],
 "metadata": {
  "kernelspec": {
   "display_name": "Julia 1.5.1",
   "language": "julia",
   "name": "julia-1.5"
  },
  "language_info": {
   "file_extension": ".jl",
   "mimetype": "application/julia",
   "name": "julia",
   "version": "1.5.1"
  }
 },
 "nbformat": 4,
 "nbformat_minor": 4
}
