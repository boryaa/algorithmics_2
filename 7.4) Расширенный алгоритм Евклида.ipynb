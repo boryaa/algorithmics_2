{
 "cells": [
  {
   "cell_type": "markdown",
   "metadata": {},
   "source": [
    "# 7.4) Расширенный алгоритм Евклида #"
   ]
  },
  {
   "cell_type": "code",
   "execution_count": 17,
   "metadata": {},
   "outputs": [
    {
     "data": {
      "text/plain": [
       "(7, -1, 2)"
      ]
     },
     "execution_count": 17,
     "metadata": {},
     "output_type": "execute_result"
    }
   ],
   "source": [
    "function gcdex(a, b)\n",
    "    if b == 0\n",
    "        return a, 1, 0\n",
    "    end\n",
    "    gcd, x0, y0 = gcdex(b, a % b)\n",
    "    x = y0\n",
    "    y = x0 - (a ÷ b) * y0\n",
    "    return gcd, x, y\n",
    "end\n",
    "\n",
    "gcdex(49, 28)"
   ]
  }
 ],
 "metadata": {
  "kernelspec": {
   "display_name": "Julia 1.5.1",
   "language": "julia",
   "name": "julia-1.5"
  },
  "language_info": {
   "file_extension": ".jl",
   "mimetype": "application/julia",
   "name": "julia",
   "version": "1.5.1"
  }
 },
 "nbformat": 4,
 "nbformat_minor": 4
}
