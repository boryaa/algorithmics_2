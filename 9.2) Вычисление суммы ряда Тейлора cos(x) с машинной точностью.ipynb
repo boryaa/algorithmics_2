{
 "cells": [
  {
   "cell_type": "markdown",
   "metadata": {},
   "source": [
    "# 9.2) Вычисление суммы ряда Тейлора cos(x) с машинной точностью"
   ]
  },
  {
   "cell_type": "markdown",
   "metadata": {},
   "source": [
    "$$\\cos(x)=1-\\frac{x^2}{2!}+\\frac{x^4}{4!}-\\frac{x^6}{6!}+...$$"
   ]
  },
  {
   "cell_type": "markdown",
   "metadata": {},
   "source": [
    "## В данной задаче я написал обобщённую функцию: аргумент может быть действительным числом, комплексным числом и даже матрицей "
   ]
  },
  {
   "cell_type": "code",
   "execution_count": 11,
   "metadata": {},
   "outputs": [
    {
     "name": "stdout",
     "output_type": "stream",
     "text": [
      "[0.5672713600196317 0.39869979395644206; 0.2988920133330939 0.12763548281631976]"
     ]
    },
    {
     "data": {
      "text/plain": [
       "2×2 Array{Float64,2}:\n",
       " 0.690862  0.803372\n",
       " 0.690862  0.803372"
      ]
     },
     "execution_count": 11,
     "metadata": {},
     "output_type": "execute_result"
    }
   ],
   "source": [
    "FloatN  = Union{Float16,Float32,Float64}\n",
    "NumberN = Union{FloatN, Complex{FloatN}}\n",
    "\n",
    "function sum_cos(x::Union{NumberN, Matrix{<:NumberN}})\n",
    "    sn = fill(eltype(x)(0),size(x))\n",
    "    an = x ./ x\n",
    "    m = 2\n",
    "    while sn + an != sn\n",
    "        sn += an\n",
    "        an *= (-1) * x^2 ./ m ./ (m - 1)\n",
    "        m += 2\n",
    "    end\n",
    "    return sn\n",
    "end\n",
    "\n",
    "A = rand(2, 2)\n",
    "print(A)\n",
    "sum_cos(A)\n"
   ]
  }
 ],
 "metadata": {
  "kernelspec": {
   "display_name": "Julia 1.5.1",
   "language": "julia",
   "name": "julia-1.5"
  },
  "language_info": {
   "file_extension": ".jl",
   "mimetype": "application/julia",
   "name": "julia",
   "version": "1.5.1"
  }
 },
 "nbformat": 4,
 "nbformat_minor": 4
}
