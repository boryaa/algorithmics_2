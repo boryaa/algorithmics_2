{
 "cells": [
  {
   "cell_type": "markdown",
   "metadata": {},
   "source": [
    "# 1. Реализовать функцию, выполняющую транспонирование (transpose - соответствующая встроенная функция julia) (Указание: сначала разобраться с алгоритмом перестановки элементов одномерного массива в обратном порядке. В julia имеется соответствующая встроенная функция - reverse)"
   ]
  },
  {
   "cell_type": "code",
   "execution_count": 5,
   "metadata": {},
   "outputs": [
    {
     "data": {
      "text/plain": [
       "transpose (generic function with 1 method)"
      ]
     },
     "execution_count": 5,
     "metadata": {},
     "output_type": "execute_result"
    }
   ],
   "source": [
    "function transpose(A::Matrix)\n",
    "    B = Matrix{eltype(A)}(undef, size(A, 2), size(A, 1))\n",
    "    for i in 1:size(A, 1)\n",
    "        for j in 1:size(A, 2)\n",
    "            B[j, i] = A[i, j]\n",
    "        end\n",
    "    end\n",
    "    return B\n",
    "end"
   ]
  },
  {
   "cell_type": "markdown",
   "metadata": {},
   "source": [
    "# 2. Без дополнительного массива"
   ]
  },
  {
   "cell_type": "code",
   "execution_count": 6,
   "metadata": {},
   "outputs": [
    {
     "data": {
      "text/plain": [
       "transpose! (generic function with 1 method)"
      ]
     },
     "execution_count": 6,
     "metadata": {},
     "output_type": "execute_result"
    }
   ],
   "source": [
    "function transpose!(A::Matrix{T}) where T\n",
    "    for i in 1:size(A,1)\n",
    "        for j in 1:i\n",
    "            A[i, j], A[j, i] = A[j, i], A[i, j]\n",
    "        end\n",
    "    end\n",
    "    return A\n",
    "end"
   ]
  }
 ],
 "metadata": {
  "kernelspec": {
   "display_name": "Julia 1.5.1",
   "language": "julia",
   "name": "julia-1.5"
  },
  "language_info": {
   "file_extension": ".jl",
   "mimetype": "application/julia",
   "name": "julia",
   "version": "1.5.1"
  }
 },
 "nbformat": 4,
 "nbformat_minor": 4
}
