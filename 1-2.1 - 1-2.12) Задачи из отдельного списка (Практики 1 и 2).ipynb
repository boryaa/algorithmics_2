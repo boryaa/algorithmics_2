{
 "cells": [
  {
   "cell_type": "markdown",
   "metadata": {},
   "source": [
    "# 1. Реализовать функцию, аналогичную встроенной функции reverse!, назвав её, например, reverse_user!, для следующих случаев: a) аргумент функции - вектор б) аргумент функции - матрица (2-мерный массив)"
   ]
  },
  {
   "cell_type": "code",
   "execution_count": 6,
   "metadata": {},
   "outputs": [
    {
     "data": {
      "text/plain": [
       "reverse_user! (generic function with 1 method)"
      ]
     },
     "execution_count": 6,
     "metadata": {},
     "output_type": "execute_result"
    }
   ],
   "source": [
    "function reverse_user!(A::Vector)\n",
    "    for i in 1:length(A) / 2\n",
    "        A[i], A[length(A) - i + 1] = A[length(A) - i + 1], A[i]\n",
    "    end\n",
    "end"
   ]
  },
  {
   "cell_type": "code",
   "execution_count": 7,
   "metadata": {},
   "outputs": [
    {
     "data": {
      "text/plain": [
       "reverse_user! (generic function with 2 methods)"
      ]
     },
     "execution_count": 7,
     "metadata": {},
     "output_type": "execute_result"
    }
   ],
   "source": [
    "function reverse_user!(A::Matrix)\n",
    "    dimensions = ndims(A)\n",
    "    A = reshape(A, length(A))\n",
    "    reverse_user!(A)\n",
    "    A = reshape(A, dimensions)\n",
    "end"
   ]
  },
  {
   "cell_type": "markdown",
   "metadata": {},
   "source": [
    "# 2. Аналогично, реализовать функцию, аналогичную встроенной функции copy для следующих случаев: a) аргумент функции - вектор б) аргумент функции - матрица (2-мерный массив)"
   ]
  },
  {
   "cell_type": "code",
   "execution_count": 8,
   "metadata": {},
   "outputs": [
    {
     "data": {
      "text/plain": [
       "copy_user (generic function with 1 method)"
      ]
     },
     "execution_count": 8,
     "metadata": {},
     "output_type": "execute_result"
    }
   ],
   "source": [
    "function copy_user(A::Vector{Any})\n",
    "    Copy = Vector{typeof(A)}(undef, length(A))\n",
    "    for i in 1:length(A)\n",
    "        Copy[i] = A[i]\n",
    "    end\n",
    "    return Copy\n",
    "end"
   ]
  },
  {
   "cell_type": "code",
   "execution_count": 9,
   "metadata": {},
   "outputs": [
    {
     "data": {
      "text/plain": [
       "copy_user (generic function with 2 methods)"
      ]
     },
     "execution_count": 9,
     "metadata": {},
     "output_type": "execute_result"
    }
   ],
   "source": [
    "function copy_user(A::Matrix)\n",
    "    Copy = Matrix{typeof(A)}(undef, size(A))\n",
    "    for i in 1:size(A, 2)\n",
    "        Copy[:,i] = @view A[:,i]\n",
    "    end\n",
    "    return Copy\n",
    "end"
   ]
  },
  {
   "cell_type": "markdown",
   "metadata": {},
   "source": [
    "# 3. Реализовать алгоритм сортировки методом пузырька, написав следующие 4 обобщенные функции: bubblesort, bubblesort!, bubblesortperm, bubblesortperm!, по аналогии со встоенными функциями sort!, sort, sortperm!, sortperm, ограничившись только случаем, когда входной параметр есть одномерный массив (вектор)."
   ]
  },
  {
   "cell_type": "code",
   "execution_count": 10,
   "metadata": {},
   "outputs": [
    {
     "data": {
      "text/plain": [
       "bubblesort! (generic function with 1 method)"
      ]
     },
     "execution_count": 10,
     "metadata": {},
     "output_type": "execute_result"
    }
   ],
   "source": [
    "function bubblesort!(A)\n",
    "    n = length(A)\n",
    "    for k in 1:n-1\n",
    "        istranspose = false\n",
    "        for i in 1:n-k\n",
    "            if A[i]>A[i+1]\n",
    "                A[i], A[i+1] = A[i+1], A[i]\n",
    "                istranspose = true\n",
    "            end\n",
    "        end\n",
    "        if istranspose == false\n",
    "            break\n",
    "        end\n",
    "    end\n",
    "    return A\n",
    "end"
   ]
  },
  {
   "cell_type": "code",
   "execution_count": 11,
   "metadata": {},
   "outputs": [
    {
     "data": {
      "text/plain": [
       "bubblesort (generic function with 1 method)"
      ]
     },
     "execution_count": 11,
     "metadata": {},
     "output_type": "execute_result"
    }
   ],
   "source": [
    "bubblesort(A)=bubblesort!(deepcopy(A))"
   ]
  },
  {
   "cell_type": "code",
   "execution_count": 12,
   "metadata": {},
   "outputs": [
    {
     "data": {
      "text/plain": [
       "bubblesortperm! (generic function with 1 method)"
      ]
     },
     "execution_count": 12,
     "metadata": {},
     "output_type": "execute_result"
    }
   ],
   "source": [
    "function bubblesortperm!(A)\n",
    "    n = length(A)\n",
    "    indexes = collect(1:n)\n",
    "    for k in 1:n-1\n",
    "        istranspose = false\n",
    "        for i in 1:n-k\n",
    "            if A[i]>A[i+1]\n",
    "                A[i],A[i+1]=A[i+1],A[i]\n",
    "                indexes[i],indexes[i+1]=indexes[i+1],indexes[i]\n",
    "                istranspose = true\n",
    "            end\n",
    "        end\n",
    "        if istranspose == false\n",
    "            break\n",
    "        end\n",
    "    end\n",
    "    return indexes\n",
    "end"
   ]
  },
  {
   "cell_type": "code",
   "execution_count": 13,
   "metadata": {},
   "outputs": [
    {
     "data": {
      "text/plain": [
       "bubblesortperm (generic function with 1 method)"
      ]
     },
     "execution_count": 13,
     "metadata": {},
     "output_type": "execute_result"
    }
   ],
   "source": [
    "bubblesortperm(A)=bubblesortperm!(deepcopy(A))"
   ]
  },
  {
   "cell_type": "markdown",
   "metadata": {},
   "source": [
    "# 4. На основе разработанных в пункте 1 функций, сотрирующих одномерный массив, написать соответствующие функции, которые бы могли получать на вход матрицу, и сортировать каждый из ее столбцов по отдельности. Имена функций оставить прежними, что были и в пункте 1, воспользовавшись механизмом множественной диспетчеризации языка Julia."
   ]
  },
  {
   "cell_type": "code",
   "execution_count": 14,
   "metadata": {},
   "outputs": [
    {
     "data": {
      "text/plain": [
       "bubblesort (generic function with 2 methods)"
      ]
     },
     "execution_count": 14,
     "metadata": {},
     "output_type": "execute_result"
    }
   ],
   "source": [
    "function bubblesort!(A::Matrix)\n",
    "    _ , column_size = size(A)\n",
    "    for i in 1:column_size\n",
    "        column = @view A[:, i]\n",
    "        bubblesort!(column)\n",
    "    end\n",
    "end\n",
    "\n",
    "bubblesort(A::Matrix) = bubblesort!(copy(A))"
   ]
  },
  {
   "cell_type": "code",
   "execution_count": 15,
   "metadata": {},
   "outputs": [
    {
     "data": {
      "text/plain": [
       "bubblesortperm (generic function with 2 methods)"
      ]
     },
     "execution_count": 15,
     "metadata": {},
     "output_type": "execute_result"
    }
   ],
   "source": [
    "function bubblesortperm!(A::Matrix)\n",
    "    row_size , column_size = size(A)\n",
    "    B = copy(A)\n",
    "    k = 0\n",
    "    for i in 1:column_size\n",
    "        column = @view A[:, i]\n",
    "        index_array = bubblesortperm!(column)\n",
    "        index_column = @view B[: , i]\n",
    "        for j in 1:row_size\n",
    "            index_column[j] = index_array[j] + k\n",
    "        end\n",
    "        k += 2\n",
    "    end\n",
    "\n",
    "    return B\n",
    "end\n",
    "\n",
    "bubblesortperm(A::Matrix) = bubblesortperm!(copy(A))"
   ]
  },
  {
   "cell_type": "markdown",
   "metadata": {},
   "source": [
    "# 5. Написать функцию sortkey!(a, key_values), получающую на вход некоторый вектор a, и соответствующий вектор keyvalues ключевых значений элементов вектора a, осуществляющую сортировку вектора a по ключевым значениям его элементов, и возвращающую ссылку на вектор a. (Для сортировки вектора ключевых значений можно востпользоваться одной из разработанных в пункте 1 функций, или соответствующей встроенной функцией)."
   ]
  },
  {
   "cell_type": "code",
   "execution_count": 16,
   "metadata": {},
   "outputs": [
    {
     "data": {
      "text/plain": [
       "sortkey! (generic function with 2 methods)"
      ]
     },
     "execution_count": 16,
     "metadata": {},
     "output_type": "execute_result"
    }
   ],
   "source": [
    "function sortkey!(A, key_values)\n",
    "    num = bubblesortperm!(key_values)\n",
    "    return @view A[num]\n",
    "end\n",
    "\n",
    "function sortkey!(A, F::Function)\n",
    "    num = bubblesortperm!(F(A))\n",
    "    return A[num]\n",
    "end"
   ]
  },
  {
   "cell_type": "markdown",
   "metadata": {},
   "source": [
    "# 6. Написать функцию calcsort, реализующую сортировку методом подсчета числа значений. Рассмотреть 2 варианта функции (2 метода - в терминологии Julia): в первом варианте возможные значения элементов сортируемого массива задаются некоторым диапазоном, во втором - некоторым отсортированным массивом (вектором)."
   ]
  },
  {
   "cell_type": "code",
   "execution_count": 17,
   "metadata": {},
   "outputs": [
    {
     "data": {
      "text/plain": [
       "calcsort! (generic function with 2 methods)"
      ]
     },
     "execution_count": 17,
     "metadata": {},
     "output_type": "execute_result"
    }
   ],
   "source": [
    "function calcsort!(A,values::UnitRange{Int})\n",
    "    store = zeros(Int, size(values))\n",
    "    for i in 1:length(A)\n",
    "        for j in 1:length(values)\n",
    "            if A[i]==values[j]\n",
    "                store[j]+=1\n",
    "            end\n",
    "        end\n",
    "    end\n",
    "    k=1\n",
    "    for i in 1:length(values)\n",
    "        while store[i]>0\n",
    "            A[k]=values[i]\n",
    "            k+=1\n",
    "            store[i]-=1\n",
    "        end\n",
    "    end\n",
    "    return A\n",
    "end\n",
    "\n",
    "function calcsort!(A,values::Vector{Int})\n",
    "    store = zeros(Int, size(values))\n",
    "    for i in 1:length(A)\n",
    "        for j in 1:length(values)\n",
    "            if A[i]==values[j]\n",
    "                store[j]+=1\n",
    "            end\n",
    "        end\n",
    "    end\n",
    "    k=1\n",
    "    for i in 1:length(values)\n",
    "        while store[i]>0\n",
    "            A[k]=values[i]\n",
    "            k+=1\n",
    "            store[i]-=1\n",
    "        end\n",
    "    end\n",
    "    return A\n",
    "end"
   ]
  },
  {
   "cell_type": "markdown",
   "metadata": {},
   "source": [
    "# 7. Написать функции insertsort!, insertsort, insertsortperm, insertsortperm! (по аналогии с пунктом 1) реализующие алгоритм сортировки вставками"
   ]
  },
  {
   "cell_type": "code",
   "execution_count": 18,
   "metadata": {},
   "outputs": [
    {
     "data": {
      "text/plain": [
       "insertsortperm (generic function with 1 method)"
      ]
     },
     "execution_count": 18,
     "metadata": {},
     "output_type": "execute_result"
    }
   ],
   "source": [
    "function insertsort!(A)\n",
    "    for i in 2:length(A)\n",
    "        key = A[i]\n",
    "        j = i - 1\n",
    "        while j >= 1 && A[j] > key\n",
    "            A[j + 1] = A[j]\n",
    "            j -= 1\n",
    "        end\n",
    "        A[j + 1] = key\n",
    "    end\n",
    "    return A\n",
    "end\n",
    "\n",
    "function insertsort(A)\n",
    "    insertsort!(deepcopy(A))\n",
    "end\n",
    "\n",
    "function insertsortperm!(A)\n",
    "    numbers = collect(1:length(A))\n",
    "    for i in 2:length(A)\n",
    "        key = A[i]\n",
    "        j = i - 1\n",
    "        while j >= 1 && A[j] > key\n",
    "            A[j + 1] = A[j]\n",
    "            numbers[j + 1],numbers[j] =numbers[j],numbers[j + 1]\n",
    "            j -= 1\n",
    "        end\n",
    "        A[j + 1] = key\n",
    "        numbers[j + 1],numbers[i] = numbers[i],numbers[j + 1]\n",
    "    end\n",
    "    return numbers\n",
    "end\n",
    "\n",
    "function insertsortperm(A)\n",
    "    insertsortperm!(deepcopy(A))\n",
    "end"
   ]
  },
  {
   "cell_type": "markdown",
   "metadata": {},
   "source": [
    "# 8. Реализовать ранее написанную функцию insertsort! с помощью встроенной функции reduce."
   ]
  },
  {
   "cell_type": "code",
   "execution_count": 19,
   "metadata": {},
   "outputs": [
    {
     "data": {
      "text/plain": [
       "insertsort! (generic function with 1 method)"
      ]
     },
     "execution_count": 19,
     "metadata": {},
     "output_type": "execute_result"
    }
   ],
   "source": [
    "insertsort!(A)=reduce(1:length(A))do _, k\n",
    "    while k>1 && A[k-1] > A[k]\n",
    "        A[k-1], A[k] = A[k], A[k-1]\n",
    "        k-=1\n",
    "    end\n",
    "    return A\n",
    "end"
   ]
  },
  {
   "cell_type": "markdown",
   "metadata": {},
   "source": [
    "# 9. Дополнить функцию insrtsort! процедурой \"быстрого поиска\"."
   ]
  },
  {
   "cell_type": "code",
   "execution_count": 20,
   "metadata": {},
   "outputs": [
    {
     "data": {
      "text/plain": [
       "insertsort! (generic function with 1 method)"
      ]
     },
     "execution_count": 20,
     "metadata": {},
     "output_type": "execute_result"
    }
   ],
   "source": [
    "function quicsearch(A,b)\n",
    "    first = firstindex(A)\n",
    "    last = lastindex(A)\n",
    "    index = -1\n",
    "    bool= false\n",
    "    while (first+1 < last) &&(index == -1)\n",
    "        mid = (first+last)÷2\n",
    "        if A[mid] == b\n",
    "            index = mid\n",
    "            bool=true\n",
    "        else\n",
    "            if b<A[mid]\n",
    "                last = mid -1\n",
    "            else\n",
    "                first = mid +1\n",
    "            end\n",
    "        end\n",
    "    end\n",
    "    if A[first]>b\n",
    "        index=first\n",
    "        bool=false\n",
    "    elseif A[last]>b\n",
    "        index=last\n",
    "        bool=false\n",
    "    elseif A[last]<b\n",
    "        index=last+1\n",
    "        bool=false\n",
    "    end\n",
    "    return bool,index\n",
    "end\n",
    "\n",
    "function insertsort!(A)\n",
    "    for i in 2:length(A)\n",
    "        key = A[i]\n",
    "        j = i\n",
    "        c,d=quicsearch(A[1:i-1],key)\n",
    "        while d!=j \n",
    "            A[j],A[j-1]=A[j-1],A[j]\n",
    "            j=j-1\n",
    "        end\n",
    "    end\n",
    "    return A\n",
    "end"
   ]
  },
  {
   "cell_type": "markdown",
   "metadata": {},
   "source": [
    "# 10. Написать обобщенную функцию (nummax), получающую на вход итерируемый объект, содержащий некоторую последовательность (элементы которой можно сравнивать по величине), и возвращающую число максимумов этой последовательности."
   ]
  },
  {
   "cell_type": "code",
   "execution_count": 21,
   "metadata": {},
   "outputs": [
    {
     "data": {
      "text/plain": [
       "nummax (generic function with 1 method)"
      ]
     },
     "execution_count": 21,
     "metadata": {},
     "output_type": "execute_result"
    }
   ],
   "source": [
    "function nummax(A)\n",
    "    max= maximum(A)\n",
    "    count = 1\n",
    "    for i in firstindex(A)+1:lastindex(A)\n",
    "        if A[i] == max\n",
    "            count+=1\n",
    "        end\n",
    "    end\n",
    "    return count\n",
    "end"
   ]
  },
  {
   "cell_type": "markdown",
   "metadata": {},
   "source": [
    "# 11. Написать обобщенную функцию (findallmax), получающую на вход итерируемый объект, содержащий некоторую последовательность (элементы которой можно сравнивать по величине), и возвращающую вектор, составленный из индексов элементов входной последовательности, имеющих максимальное значение."
   ]
  },
  {
   "cell_type": "code",
   "execution_count": 22,
   "metadata": {},
   "outputs": [
    {
     "data": {
      "text/plain": [
       "findallmax (generic function with 2 methods)"
      ]
     },
     "execution_count": 22,
     "metadata": {},
     "output_type": "execute_result"
    }
   ],
   "source": [
    "function findallmax(A)\n",
    "    max = maximum(A)\n",
    "    count = nummax(A)\n",
    "    result = Vector{Int}(undef,count)\n",
    "    for i in firstindex(A)+1:lastindex(A)\n",
    "        if A[i]==max   \n",
    "            push!(result, i)\n",
    "        end\n",
    "    end\n",
    "    return result\n",
    "end"
   ]
  },
  {
   "cell_type": "markdown",
   "metadata": {},
   "source": [
    "# 12. Написать обобщенную функцию findallmax высшего порядка, получающую на вход итерируемый объект, содержащий некоторую последовательность и некоторую функцию (значение типа ::Function), и возвращающую вектор, составленный из индексов элементов входной последовательности, на которых заданная функция достигает максимального значения (речь и дет о сужении заданной функции на заданной последовательности)."
   ]
  },
  {
   "cell_type": "code",
   "execution_count": 23,
   "metadata": {},
   "outputs": [
    {
     "data": {
      "text/plain": [
       "findallmax (generic function with 2 methods)"
      ]
     },
     "execution_count": 23,
     "metadata": {},
     "output_type": "execute_result"
    }
   ],
   "source": [
    "function findallmax(A, func::Function)\n",
    "    B = copy(A)\n",
    "        for i in 1:length(B)\n",
    "            B[i] = func(B[i])\n",
    "        end\n",
    "    return findallmax(B)\n",
    "end"
   ]
  }
 ],
 "metadata": {
  "kernelspec": {
   "display_name": "Julia 1.5.1",
   "language": "julia",
   "name": "julia-1.5"
  },
  "language_info": {
   "file_extension": ".jl",
   "mimetype": "application/julia",
   "name": "julia",
   "version": "1.5.1"
  }
 },
 "nbformat": 4,
 "nbformat_minor": 4
}
